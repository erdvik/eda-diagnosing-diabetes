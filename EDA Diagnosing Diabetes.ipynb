{
 "cells": [
  {
   "cell_type": "markdown",
   "id": "f4c71b09",
   "metadata": {},
   "source": [
    "# EDA: Diagnosing Diabetes"
   ]
  },
  {
   "cell_type": "markdown",
   "id": "7cf00067",
   "metadata": {},
   "source": [
    "In this project, you'll imagine you are a data scientist interested in exploring data that looks at how certain diagnostic factors affect the diabetes outcome of women patients.\n",
    "\n",
    "You will use your EDA skills to help inspect, clean, and validate the data.\n",
    "\n",
    "**Note**: This [dataset](https://www.kaggle.com/uciml/pima-indians-diabetes-database) is from the National Institute of Diabetes and Digestive and Kidney Diseases. It contains the following columns:\n",
    "\n",
    "- `Pregnancies`: Number of times pregnant\n",
    "- `Glucose`: Plasma glucose concentration per 2 hours in an oral glucose tolerance test\n",
    "- `BloodPressure`: Diastolic blood pressure\n",
    "- `SkinThickness`: Triceps skinfold thickness\n",
    "- `Insulin`: 2-Hour serum insulin\n",
    "- `BMI`: Body mass index\n",
    "- `DiabetesPedigreeFunction`: Diabetes pedigree function\n",
    "- `Age`: Age (years)\n",
    "- `Outcome`: Class variable (0 or 1)\n",
    "\n",
    "Let's get started!"
   ]
  },
  {
   "cell_type": "markdown",
   "id": "6e1cc217",
   "metadata": {},
   "source": [
    "## Initial Inspection"
   ]
  },
  {
   "cell_type": "markdown",
   "id": "76684c5b",
   "metadata": {},
   "source": [
    "1. First, familiarize yourself with the dataset [here](https://www.kaggle.com/uciml/pima-indians-diabetes-database).\n",
    "\n",
    "   Look at each of the nine columns in the documentation.\n",
    "   \n",
    "   What do you expect each data type to be?"
   ]
  },
  {
   "attachments": {},
   "cell_type": "markdown",
   "id": "f7bdb023",
   "metadata": {},
   "source": [
    "Expected data type for each column:\n",
    "\n",
    "- `Pregnancies`: int64 \n",
    "- `Glucose`: int64\n",
    "- `BloodPressure`: int64\n",
    "- `SkinThickness`: int64\n",
    "- `Insulin`: int64\n",
    "- `BMI`: float64\n",
    "- `DiabetesPedigreeFunction`: float64\n",
    "- `Age`: int64\n",
    "- `Outcome`: int64"
   ]
  },
  {
   "cell_type": "markdown",
   "id": "fc54249b",
   "metadata": {},
   "source": [
    "2. Next, let's load in the diabetes data to start exploring.\n",
    "\n",
    "   Load the data in a variable called `diabetes_data` and print the first few rows.\n",
    "   \n",
    "   **Note**: The data is stored in a file called `diabetes.csv`."
   ]
  },
  {
   "cell_type": "code",
   "execution_count": 1,
   "id": "4839762f",
   "metadata": {},
   "outputs": [
    {
     "data": {
      "text/html": [
       "<div>\n",
       "<style scoped>\n",
       "    .dataframe tbody tr th:only-of-type {\n",
       "        vertical-align: middle;\n",
       "    }\n",
       "\n",
       "    .dataframe tbody tr th {\n",
       "        vertical-align: top;\n",
       "    }\n",
       "\n",
       "    .dataframe thead th {\n",
       "        text-align: right;\n",
       "    }\n",
       "</style>\n",
       "<table border=\"1\" class=\"dataframe\">\n",
       "  <thead>\n",
       "    <tr style=\"text-align: right;\">\n",
       "      <th></th>\n",
       "      <th>Pregnancies</th>\n",
       "      <th>Glucose</th>\n",
       "      <th>BloodPressure</th>\n",
       "      <th>SkinThickness</th>\n",
       "      <th>Insulin</th>\n",
       "      <th>BMI</th>\n",
       "      <th>DiabetesPedigreeFunction</th>\n",
       "      <th>Age</th>\n",
       "      <th>Outcome</th>\n",
       "    </tr>\n",
       "  </thead>\n",
       "  <tbody>\n",
       "    <tr>\n",
       "      <th>0</th>\n",
       "      <td>6</td>\n",
       "      <td>148</td>\n",
       "      <td>72</td>\n",
       "      <td>35</td>\n",
       "      <td>0</td>\n",
       "      <td>33.6</td>\n",
       "      <td>0.627</td>\n",
       "      <td>50</td>\n",
       "      <td>1</td>\n",
       "    </tr>\n",
       "    <tr>\n",
       "      <th>1</th>\n",
       "      <td>1</td>\n",
       "      <td>85</td>\n",
       "      <td>66</td>\n",
       "      <td>29</td>\n",
       "      <td>0</td>\n",
       "      <td>26.6</td>\n",
       "      <td>0.351</td>\n",
       "      <td>31</td>\n",
       "      <td>0</td>\n",
       "    </tr>\n",
       "    <tr>\n",
       "      <th>2</th>\n",
       "      <td>8</td>\n",
       "      <td>183</td>\n",
       "      <td>64</td>\n",
       "      <td>0</td>\n",
       "      <td>0</td>\n",
       "      <td>23.3</td>\n",
       "      <td>0.672</td>\n",
       "      <td>32</td>\n",
       "      <td>1</td>\n",
       "    </tr>\n",
       "    <tr>\n",
       "      <th>3</th>\n",
       "      <td>1</td>\n",
       "      <td>89</td>\n",
       "      <td>66</td>\n",
       "      <td>23</td>\n",
       "      <td>94</td>\n",
       "      <td>28.1</td>\n",
       "      <td>0.167</td>\n",
       "      <td>21</td>\n",
       "      <td>0</td>\n",
       "    </tr>\n",
       "    <tr>\n",
       "      <th>4</th>\n",
       "      <td>0</td>\n",
       "      <td>137</td>\n",
       "      <td>40</td>\n",
       "      <td>35</td>\n",
       "      <td>168</td>\n",
       "      <td>43.1</td>\n",
       "      <td>2.288</td>\n",
       "      <td>33</td>\n",
       "      <td>1</td>\n",
       "    </tr>\n",
       "  </tbody>\n",
       "</table>\n",
       "</div>"
      ],
      "text/plain": [
       "   Pregnancies  Glucose  BloodPressure  SkinThickness  Insulin   BMI  \\\n",
       "0            6      148             72             35        0  33.6   \n",
       "1            1       85             66             29        0  26.6   \n",
       "2            8      183             64              0        0  23.3   \n",
       "3            1       89             66             23       94  28.1   \n",
       "4            0      137             40             35      168  43.1   \n",
       "\n",
       "   DiabetesPedigreeFunction  Age Outcome  \n",
       "0                     0.627   50       1  \n",
       "1                     0.351   31       0  \n",
       "2                     0.672   32       1  \n",
       "3                     0.167   21       0  \n",
       "4                     2.288   33       1  "
      ]
     },
     "execution_count": 1,
     "metadata": {},
     "output_type": "execute_result"
    }
   ],
   "source": [
    "import pandas as pd\n",
    "import numpy as np\n",
    "\n",
    "# load in data\n",
    "diabetes_data = pd.read_csv('diabetes.csv')\n",
    "\n",
    "# print the first 5 rows of data\n",
    "diabetes_data.head()\n"
   ]
  },
  {
   "cell_type": "markdown",
   "id": "90d35b44",
   "metadata": {},
   "source": [
    "3. How many columns (features) does the data contain?"
   ]
  },
  {
   "cell_type": "code",
   "execution_count": 2,
   "id": "c7fc98c4",
   "metadata": {},
   "outputs": [
    {
     "name": "stdout",
     "output_type": "stream",
     "text": [
      "9\n"
     ]
    }
   ],
   "source": [
    "# print number of columns\n",
    "print(diabetes_data.shape[1])\n"
   ]
  },
  {
   "cell_type": "markdown",
   "id": "35d2bf80",
   "metadata": {},
   "source": [
    "4. How many rows (observations) does the data contain?"
   ]
  },
  {
   "cell_type": "code",
   "execution_count": 3,
   "id": "190b7a90",
   "metadata": {},
   "outputs": [
    {
     "name": "stdout",
     "output_type": "stream",
     "text": [
      "768\n"
     ]
    }
   ],
   "source": [
    "# print number of rows\n",
    "print(diabetes_data.shape[0])\n"
   ]
  },
  {
   "cell_type": "markdown",
   "id": "65d8ddf0",
   "metadata": {},
   "source": [
    "## Further Inspection"
   ]
  },
  {
   "cell_type": "markdown",
   "id": "04e3c6ef",
   "metadata": {},
   "source": [
    "5. Let's inspect `diabetes_data` further.\n",
    "\n",
    "   Do any of the columns in the data contain null (missing) values?"
   ]
  },
  {
   "cell_type": "code",
   "execution_count": 5,
   "id": "d0fa3860",
   "metadata": {},
   "outputs": [
    {
     "name": "stdout",
     "output_type": "stream",
     "text": [
      "Pregnancies                 0\n",
      "Glucose                     0\n",
      "BloodPressure               0\n",
      "SkinThickness               0\n",
      "Insulin                     0\n",
      "BMI                         0\n",
      "DiabetesPedigreeFunction    0\n",
      "Age                         0\n",
      "Outcome                     0\n",
      "dtype: int64\n"
     ]
    }
   ],
   "source": [
    "# find whether columns contain null values\n",
    "print(diabetes_data.isnull().sum())\n"
   ]
  },
  {
   "cell_type": "markdown",
   "id": "8ee62c01",
   "metadata": {},
   "source": [
    "6. If you answered no to the question above, not so fast!\n",
    "\n",
    "   While it's technically true that none of the columns contain null values, that doesn't necessarily mean that the data isn't missing any values.\n",
    "   \n",
    "   When exploring data, you should always question your assumptions and try to dig deeper.\n",
    "   \n",
    "   To investigate further, calculate summary statistics on `diabetes_data` using the `.describe()` method."
   ]
  },
  {
   "cell_type": "code",
   "execution_count": 6,
   "id": "451efb00",
   "metadata": {},
   "outputs": [
    {
     "name": "stdout",
     "output_type": "stream",
     "text": [
      "       Pregnancies     Glucose  BloodPressure  SkinThickness     Insulin  \\\n",
      "count   768.000000  768.000000     768.000000     768.000000  768.000000   \n",
      "mean      3.845052  120.894531      69.105469      20.536458   79.799479   \n",
      "std       3.369578   31.972618      19.355807      15.952218  115.244002   \n",
      "min       0.000000    0.000000       0.000000       0.000000    0.000000   \n",
      "25%       1.000000   99.000000      62.000000       0.000000    0.000000   \n",
      "50%       3.000000  117.000000      72.000000      23.000000   30.500000   \n",
      "75%       6.000000  140.250000      80.000000      32.000000  127.250000   \n",
      "max      17.000000  199.000000     122.000000      99.000000  846.000000   \n",
      "\n",
      "              BMI  DiabetesPedigreeFunction         Age  \n",
      "count  768.000000                768.000000  768.000000  \n",
      "mean    31.992578                  0.471876   33.240885  \n",
      "std      7.884160                  0.331329   11.760232  \n",
      "min      0.000000                  0.078000   21.000000  \n",
      "25%     27.300000                  0.243750   24.000000  \n",
      "50%     32.000000                  0.372500   29.000000  \n",
      "75%     36.600000                  0.626250   41.000000  \n",
      "max     67.100000                  2.420000   81.000000  \n"
     ]
    }
   ],
   "source": [
    "# perform summary statistics using describe()\n",
    "print(diabetes_data.describe())\n"
   ]
  },
  {
   "cell_type": "markdown",
   "id": "ad900272",
   "metadata": {},
   "source": [
    "7. Looking at the summary statistics, do you notice anything odd about the following columns?\n",
    "\n",
    "   - `Glucose`\n",
    "   - `BloodPressure`\n",
    "   - `SkinThickness`\n",
    "   - `Insulin`\n",
    "   - `BMI`"
   ]
  },
  {
   "attachments": {},
   "cell_type": "markdown",
   "id": "7131eacb",
   "metadata": {},
   "source": [
    "**Your response to question 7**: There are values that are 0, which is not a valid value for these columns. For example you cant have a BMI of 0. These values are likely missing values."
   ]
  },
  {
   "attachments": {},
   "cell_type": "markdown",
   "id": "3ed15b79",
   "metadata": {},
   "source": [
    "8. Do you spot any other outliers in the data?"
   ]
  },
  {
   "attachments": {},
   "cell_type": "markdown",
   "id": "8a708e88",
   "metadata": {},
   "source": [
    "**Your response to question 8**: The standard deviation is very high for most of the columns. This indicates that the data is very spread out, indicating that there are outliers. For example, the standard deviation for `Pregnancies` is 3.8, with a max value of 17. This is a very large difference."
   ]
  },
  {
   "cell_type": "markdown",
   "id": "4b5bcf47",
   "metadata": {},
   "source": [
    "9. Let's see if we can get a more accurate view of the missing values in the data.\n",
    "\n",
    "   Use the following code to replace the instances of `0` with `NaN` in the five columns mentioned:\n",
    "   \n",
    "   ```py\n",
    "   diabetes_data[['Glucose', 'BloodPressure', 'SkinThickness', 'Insulin', 'BMI']] = diabetes_data[['Glucose', 'BloodPressure', 'SkinThickness', 'Insulin', 'BMI']].replace(0, np.NaN)\n",
    "   ```"
   ]
  },
  {
   "cell_type": "code",
   "execution_count": 7,
   "id": "623def40",
   "metadata": {},
   "outputs": [],
   "source": [
    "# replace instances of 0 with NaN\n",
    "diabetes_data[['Glucose', 'BloodPressure', 'SkinThickness', 'Insulin', 'BMI']] = diabetes_data[['Glucose', 'BloodPressure', 'SkinThickness', 'Insulin', 'BMI']].replace(0, np.NaN)\n"
   ]
  },
  {
   "cell_type": "markdown",
   "id": "ad9fc71d",
   "metadata": {},
   "source": [
    "10. Next, check for missing (null) values in all of the columns just like you did in Step 5.\n",
    "\n",
    "    Now how many missing values are there?"
   ]
  },
  {
   "cell_type": "code",
   "execution_count": 8,
   "id": "1e4d2845",
   "metadata": {},
   "outputs": [
    {
     "name": "stdout",
     "output_type": "stream",
     "text": [
      "Pregnancies                   0\n",
      "Glucose                       5\n",
      "BloodPressure                35\n",
      "SkinThickness               227\n",
      "Insulin                     374\n",
      "BMI                          11\n",
      "DiabetesPedigreeFunction      0\n",
      "Age                           0\n",
      "Outcome                       0\n",
      "dtype: int64\n"
     ]
    }
   ],
   "source": [
    "# find whether columns contain null values after replacements are made\n",
    "print(diabetes_data.isnull().sum())\n"
   ]
  },
  {
   "cell_type": "markdown",
   "id": "4265329e",
   "metadata": {},
   "source": [
    "11. Let's take a closer look at these rows to get a better idea of _why_ some data might be missing.\n",
    "\n",
    "    Print out all the rows that contain missing (null) values."
   ]
  },
  {
   "cell_type": "code",
   "execution_count": 10,
   "id": "91f5b1fe",
   "metadata": {},
   "outputs": [
    {
     "data": {
      "text/html": [
       "<div>\n",
       "<style scoped>\n",
       "    .dataframe tbody tr th:only-of-type {\n",
       "        vertical-align: middle;\n",
       "    }\n",
       "\n",
       "    .dataframe tbody tr th {\n",
       "        vertical-align: top;\n",
       "    }\n",
       "\n",
       "    .dataframe thead th {\n",
       "        text-align: right;\n",
       "    }\n",
       "</style>\n",
       "<table border=\"1\" class=\"dataframe\">\n",
       "  <thead>\n",
       "    <tr style=\"text-align: right;\">\n",
       "      <th></th>\n",
       "      <th>Pregnancies</th>\n",
       "      <th>Glucose</th>\n",
       "      <th>BloodPressure</th>\n",
       "      <th>SkinThickness</th>\n",
       "      <th>Insulin</th>\n",
       "      <th>BMI</th>\n",
       "      <th>DiabetesPedigreeFunction</th>\n",
       "      <th>Age</th>\n",
       "      <th>Outcome</th>\n",
       "    </tr>\n",
       "  </thead>\n",
       "  <tbody>\n",
       "    <tr>\n",
       "      <th>0</th>\n",
       "      <td>6</td>\n",
       "      <td>148.0</td>\n",
       "      <td>72.0</td>\n",
       "      <td>35.0</td>\n",
       "      <td>NaN</td>\n",
       "      <td>33.6</td>\n",
       "      <td>0.627</td>\n",
       "      <td>50</td>\n",
       "      <td>1</td>\n",
       "    </tr>\n",
       "    <tr>\n",
       "      <th>1</th>\n",
       "      <td>1</td>\n",
       "      <td>85.0</td>\n",
       "      <td>66.0</td>\n",
       "      <td>29.0</td>\n",
       "      <td>NaN</td>\n",
       "      <td>26.6</td>\n",
       "      <td>0.351</td>\n",
       "      <td>31</td>\n",
       "      <td>0</td>\n",
       "    </tr>\n",
       "    <tr>\n",
       "      <th>2</th>\n",
       "      <td>8</td>\n",
       "      <td>183.0</td>\n",
       "      <td>64.0</td>\n",
       "      <td>NaN</td>\n",
       "      <td>NaN</td>\n",
       "      <td>23.3</td>\n",
       "      <td>0.672</td>\n",
       "      <td>32</td>\n",
       "      <td>1</td>\n",
       "    </tr>\n",
       "    <tr>\n",
       "      <th>5</th>\n",
       "      <td>5</td>\n",
       "      <td>116.0</td>\n",
       "      <td>74.0</td>\n",
       "      <td>NaN</td>\n",
       "      <td>NaN</td>\n",
       "      <td>25.6</td>\n",
       "      <td>0.201</td>\n",
       "      <td>30</td>\n",
       "      <td>0</td>\n",
       "    </tr>\n",
       "    <tr>\n",
       "      <th>7</th>\n",
       "      <td>10</td>\n",
       "      <td>115.0</td>\n",
       "      <td>NaN</td>\n",
       "      <td>NaN</td>\n",
       "      <td>NaN</td>\n",
       "      <td>35.3</td>\n",
       "      <td>0.134</td>\n",
       "      <td>29</td>\n",
       "      <td>0</td>\n",
       "    </tr>\n",
       "  </tbody>\n",
       "</table>\n",
       "</div>"
      ],
      "text/plain": [
       "   Pregnancies  Glucose  BloodPressure  SkinThickness  Insulin   BMI  \\\n",
       "0            6    148.0           72.0           35.0      NaN  33.6   \n",
       "1            1     85.0           66.0           29.0      NaN  26.6   \n",
       "2            8    183.0           64.0            NaN      NaN  23.3   \n",
       "5            5    116.0           74.0            NaN      NaN  25.6   \n",
       "7           10    115.0            NaN            NaN      NaN  35.3   \n",
       "\n",
       "   DiabetesPedigreeFunction  Age Outcome  \n",
       "0                     0.627   50       1  \n",
       "1                     0.351   31       0  \n",
       "2                     0.672   32       1  \n",
       "5                     0.201   30       0  \n",
       "7                     0.134   29       0  "
      ]
     },
     "execution_count": 10,
     "metadata": {},
     "output_type": "execute_result"
    }
   ],
   "source": [
    "# print rows with missing values\n",
    "diabetes_data[diabetes_data.isnull().any(axis=1)].head()\n"
   ]
  },
  {
   "cell_type": "markdown",
   "id": "e3f06a2e",
   "metadata": {},
   "source": [
    "12. Go through the rows with missing data. Do you notice any patterns or overlaps between the missing data?"
   ]
  },
  {
   "attachments": {},
   "cell_type": "markdown",
   "id": "cb42cfe6",
   "metadata": {},
   "source": [
    "**Your response to question 12**: SkinThickness and Insulin are missing for the same rows. This is likely because the same test was not performed for these patients."
   ]
  },
  {
   "cell_type": "markdown",
   "id": "5b597d09",
   "metadata": {},
   "source": [
    "13. Next, take a closer look at the data types of each column in `diabetes_data`.\n",
    "\n",
    "    Does the result match what you would expect?"
   ]
  },
  {
   "cell_type": "code",
   "execution_count": 11,
   "id": "5855aa09",
   "metadata": {},
   "outputs": [
    {
     "name": "stdout",
     "output_type": "stream",
     "text": [
      "<class 'pandas.core.frame.DataFrame'>\n",
      "RangeIndex: 768 entries, 0 to 767\n",
      "Data columns (total 9 columns):\n",
      " #   Column                    Non-Null Count  Dtype  \n",
      "---  ------                    --------------  -----  \n",
      " 0   Pregnancies               768 non-null    int64  \n",
      " 1   Glucose                   763 non-null    float64\n",
      " 2   BloodPressure             733 non-null    float64\n",
      " 3   SkinThickness             541 non-null    float64\n",
      " 4   Insulin                   394 non-null    float64\n",
      " 5   BMI                       757 non-null    float64\n",
      " 6   DiabetesPedigreeFunction  768 non-null    float64\n",
      " 7   Age                       768 non-null    int64  \n",
      " 8   Outcome                   768 non-null    object \n",
      "dtypes: float64(6), int64(2), object(1)\n",
      "memory usage: 54.1+ KB\n",
      "None\n"
     ]
    }
   ],
   "source": [
    "# print data types using .info() method\n",
    "print(diabetes_data.info())\n"
   ]
  },
  {
   "cell_type": "markdown",
   "id": "c61b8b02",
   "metadata": {},
   "source": [
    "14. To figure out why the `Outcome` column is of type `object` (string) instead of type `int64`, print out the unique values in the `Outcome` column."
   ]
  },
  {
   "cell_type": "code",
   "execution_count": 12,
   "id": "ffedd117",
   "metadata": {},
   "outputs": [
    {
     "name": "stdout",
     "output_type": "stream",
     "text": [
      "['1' '0' 'O']\n"
     ]
    }
   ],
   "source": [
    "# print unique values of Outcome column\n",
    "print(diabetes_data['Outcome'].unique())\n"
   ]
  },
  {
   "cell_type": "markdown",
   "id": "42b3bcbe",
   "metadata": {},
   "source": [
    "15. How might you resolve this issue?"
   ]
  },
  {
   "attachments": {},
   "cell_type": "markdown",
   "id": "7495f5b6",
   "metadata": {},
   "source": [
    "**Your response to question 15**: The values in the `Outcome` column are strings beacuse som of the inputs were \"O\" and not 0. To fix this, we can convert the values to integers using the `.astype()` method."
   ]
  },
  {
   "cell_type": "code",
   "execution_count": 14,
   "id": "f43f4915",
   "metadata": {},
   "outputs": [
    {
     "name": "stdout",
     "output_type": "stream",
     "text": [
      "[1 0]\n",
      "<class 'pandas.core.frame.DataFrame'>\n",
      "RangeIndex: 768 entries, 0 to 767\n",
      "Data columns (total 9 columns):\n",
      " #   Column                    Non-Null Count  Dtype  \n",
      "---  ------                    --------------  -----  \n",
      " 0   Pregnancies               768 non-null    int64  \n",
      " 1   Glucose                   763 non-null    float64\n",
      " 2   BloodPressure             733 non-null    float64\n",
      " 3   SkinThickness             541 non-null    float64\n",
      " 4   Insulin                   394 non-null    float64\n",
      " 5   BMI                       757 non-null    float64\n",
      " 6   DiabetesPedigreeFunction  768 non-null    float64\n",
      " 7   Age                       768 non-null    int64  \n",
      " 8   Outcome                   768 non-null    int64  \n",
      "dtypes: float64(6), int64(3)\n",
      "memory usage: 54.1 KB\n",
      "None\n"
     ]
    }
   ],
   "source": [
    "# In column Outcome change \"O\" to 0 and then change the data type of the columtn to int64 using astype()\n",
    "diabetes_data['Outcome'] = diabetes_data['Outcome'].replace('O', 0)\n",
    "diabetes_data['Outcome'] = diabetes_data['Outcome'].astype('int64')\n",
    "#print\n",
    "print(diabetes_data['Outcome'].unique())\n",
    "# print data types using .info() method\n",
    "print(diabetes_data.info())"
   ]
  },
  {
   "cell_type": "markdown",
   "id": "9c5fbcbe",
   "metadata": {},
   "source": [
    "## Next Steps:"
   ]
  },
  {
   "cell_type": "markdown",
   "id": "22a324d0",
   "metadata": {},
   "source": [
    "16. Congratulations! In this project, you saw how EDA can help with the initial data inspection and cleaning process. This is an important step as it helps to keep your datasets clean and reliable.\n",
    "\n",
    "    Here are some ways you might extend this project if you'd like:\n",
    "    - Use `.value_counts()` to more fully explore the values in each column.\n",
    "    - Investigate other outliers in the data that may be easily overlooked.\n",
    "    - Instead of changing the `0` values in the five columns to `NaN`, try replacing the values with the median or mean of each column."
   ]
  },
  {
   "cell_type": "code",
   "execution_count": 24,
   "id": "b7f440b6",
   "metadata": {},
   "outputs": [
    {
     "name": "stdout",
     "output_type": "stream",
     "text": [
      "1     135\n",
      "0     111\n",
      "2     103\n",
      "3      75\n",
      "4      68\n",
      "5      57\n",
      "6      50\n",
      "7      45\n",
      "8      38\n",
      "9      28\n",
      "10     24\n",
      "11     11\n",
      "13     10\n",
      "12      9\n",
      "14      2\n",
      "15      1\n",
      "17      1\n",
      "Name: Pregnancies, dtype: int64\n",
      "-------------------\n",
      "99.0     17\n",
      "100.0    17\n",
      "111.0    14\n",
      "129.0    14\n",
      "125.0    14\n",
      "         ..\n",
      "191.0     1\n",
      "177.0     1\n",
      "44.0      1\n",
      "62.0      1\n",
      "190.0     1\n",
      "Name: Glucose, Length: 135, dtype: int64\n",
      "-------------------\n",
      "70.0     57\n",
      "74.0     52\n",
      "78.0     45\n",
      "68.0     45\n",
      "72.0     44\n",
      "64.0     43\n",
      "80.0     40\n",
      "76.0     39\n",
      "60.0     37\n",
      "62.0     34\n",
      "66.0     30\n",
      "82.0     30\n",
      "88.0     25\n",
      "84.0     23\n",
      "90.0     22\n",
      "58.0     21\n",
      "86.0     21\n",
      "50.0     13\n",
      "56.0     12\n",
      "52.0     11\n",
      "54.0     11\n",
      "75.0      8\n",
      "92.0      8\n",
      "65.0      7\n",
      "94.0      6\n",
      "85.0      6\n",
      "48.0      5\n",
      "96.0      4\n",
      "44.0      4\n",
      "98.0      3\n",
      "100.0     3\n",
      "106.0     3\n",
      "110.0     3\n",
      "55.0      2\n",
      "30.0      2\n",
      "104.0     2\n",
      "46.0      2\n",
      "108.0     2\n",
      "61.0      1\n",
      "38.0      1\n",
      "24.0      1\n",
      "122.0     1\n",
      "102.0     1\n",
      "95.0      1\n",
      "40.0      1\n",
      "114.0     1\n",
      "Name: BloodPressure, dtype: int64\n",
      "-------------------\n",
      "32.0    31\n",
      "30.0    27\n",
      "27.0    23\n",
      "23.0    22\n",
      "28.0    20\n",
      "33.0    20\n",
      "18.0    20\n",
      "31.0    19\n",
      "19.0    18\n",
      "39.0    18\n",
      "29.0    17\n",
      "25.0    16\n",
      "37.0    16\n",
      "40.0    16\n",
      "22.0    16\n",
      "26.0    16\n",
      "35.0    15\n",
      "41.0    15\n",
      "36.0    14\n",
      "15.0    14\n",
      "17.0    14\n",
      "20.0    13\n",
      "24.0    12\n",
      "42.0    11\n",
      "13.0    11\n",
      "21.0    10\n",
      "46.0     8\n",
      "34.0     8\n",
      "12.0     7\n",
      "38.0     7\n",
      "45.0     6\n",
      "16.0     6\n",
      "43.0     6\n",
      "11.0     6\n",
      "14.0     6\n",
      "44.0     5\n",
      "10.0     5\n",
      "47.0     4\n",
      "48.0     4\n",
      "50.0     3\n",
      "49.0     3\n",
      "54.0     2\n",
      "7.0      2\n",
      "52.0     2\n",
      "8.0      2\n",
      "56.0     1\n",
      "51.0     1\n",
      "60.0     1\n",
      "63.0     1\n",
      "99.0     1\n",
      "Name: SkinThickness, dtype: int64\n",
      "-------------------\n",
      "105.0    11\n",
      "130.0     9\n",
      "140.0     9\n",
      "120.0     8\n",
      "94.0      7\n",
      "         ..\n",
      "73.0      1\n",
      "171.0     1\n",
      "255.0     1\n",
      "52.0      1\n",
      "112.0     1\n",
      "Name: Insulin, Length: 185, dtype: int64\n",
      "-------------------\n",
      "32.0    13\n",
      "31.6    12\n",
      "31.2    12\n",
      "32.4    10\n",
      "33.3    10\n",
      "        ..\n",
      "36.7     1\n",
      "41.8     1\n",
      "42.6     1\n",
      "42.8     1\n",
      "46.3     1\n",
      "Name: BMI, Length: 247, dtype: int64\n",
      "-------------------\n",
      "0.258    6\n",
      "0.254    6\n",
      "0.268    5\n",
      "0.207    5\n",
      "0.261    5\n",
      "        ..\n",
      "1.353    1\n",
      "0.655    1\n",
      "0.092    1\n",
      "0.926    1\n",
      "0.171    1\n",
      "Name: DiabetesPedigreeFunction, Length: 517, dtype: int64\n",
      "-------------------\n",
      "22    72\n",
      "21    63\n",
      "25    48\n",
      "24    46\n",
      "23    38\n",
      "28    35\n",
      "26    33\n",
      "27    32\n",
      "29    29\n",
      "31    24\n",
      "41    22\n",
      "30    21\n",
      "37    19\n",
      "42    18\n",
      "33    17\n",
      "38    16\n",
      "36    16\n",
      "32    16\n",
      "45    15\n",
      "34    14\n",
      "46    13\n",
      "43    13\n",
      "40    13\n",
      "39    12\n",
      "35    10\n",
      "50     8\n",
      "51     8\n",
      "52     8\n",
      "44     8\n",
      "58     7\n",
      "47     6\n",
      "54     6\n",
      "49     5\n",
      "48     5\n",
      "57     5\n",
      "53     5\n",
      "60     5\n",
      "66     4\n",
      "63     4\n",
      "62     4\n",
      "55     4\n",
      "67     3\n",
      "56     3\n",
      "59     3\n",
      "65     3\n",
      "69     2\n",
      "61     2\n",
      "72     1\n",
      "81     1\n",
      "64     1\n",
      "70     1\n",
      "68     1\n",
      "Name: Age, dtype: int64\n",
      "-------------------\n",
      "0    500\n",
      "1    268\n",
      "Name: Outcome, dtype: int64\n",
      "-------------------\n"
     ]
    }
   ],
   "source": [
    "# Use `.value_counts()` to more fully explore the values in each column using a loop that goes through each column name\n",
    "for col in diabetes_data.columns:\n",
    "    print(diabetes_data[col].value_counts())\n",
    "    print('-------------------')\n"
   ]
  },
  {
   "cell_type": "code",
   "execution_count": null,
   "id": "588ace6d",
   "metadata": {},
   "outputs": [],
   "source": [
    "# Investigate other outliers in the data that may be easily overlooked.\n",
    "# Use a boxplot to visualize the distribution of each column\n",
    "import matplotlib.pyplot as plt\n",
    "import seaborn as sns\n",
    "plt.figure(figsize=(20, 10))\n",
    "for i, col in enumerate(diabetes_data.columns):\n",
    "    plt.subplot(3, 3, i+1)\n",
    "    sns.boxplot(diabetes_data[col])\n",
    "    plt.title(col)\n",
    "plt.show()\n"
   ]
  },
  {
   "cell_type": "code",
   "execution_count": 32,
   "id": "390bcf15",
   "metadata": {},
   "outputs": [
    {
     "data": {
      "text/html": [
       "<div>\n",
       "<style scoped>\n",
       "    .dataframe tbody tr th:only-of-type {\n",
       "        vertical-align: middle;\n",
       "    }\n",
       "\n",
       "    .dataframe tbody tr th {\n",
       "        vertical-align: top;\n",
       "    }\n",
       "\n",
       "    .dataframe thead th {\n",
       "        text-align: right;\n",
       "    }\n",
       "</style>\n",
       "<table border=\"1\" class=\"dataframe\">\n",
       "  <thead>\n",
       "    <tr style=\"text-align: right;\">\n",
       "      <th></th>\n",
       "      <th>Pregnancies</th>\n",
       "      <th>Glucose</th>\n",
       "      <th>BloodPressure</th>\n",
       "      <th>SkinThickness</th>\n",
       "      <th>Insulin</th>\n",
       "      <th>BMI</th>\n",
       "      <th>DiabetesPedigreeFunction</th>\n",
       "      <th>Age</th>\n",
       "      <th>Outcome</th>\n",
       "    </tr>\n",
       "  </thead>\n",
       "  <tbody>\n",
       "    <tr>\n",
       "      <th>0</th>\n",
       "      <td>6</td>\n",
       "      <td>148.0</td>\n",
       "      <td>72.0</td>\n",
       "      <td>35.0</td>\n",
       "      <td>125.0</td>\n",
       "      <td>33.6</td>\n",
       "      <td>0.627</td>\n",
       "      <td>50</td>\n",
       "      <td>1</td>\n",
       "    </tr>\n",
       "    <tr>\n",
       "      <th>1</th>\n",
       "      <td>1</td>\n",
       "      <td>85.0</td>\n",
       "      <td>66.0</td>\n",
       "      <td>29.0</td>\n",
       "      <td>125.0</td>\n",
       "      <td>26.6</td>\n",
       "      <td>0.351</td>\n",
       "      <td>31</td>\n",
       "      <td>0</td>\n",
       "    </tr>\n",
       "    <tr>\n",
       "      <th>2</th>\n",
       "      <td>8</td>\n",
       "      <td>183.0</td>\n",
       "      <td>64.0</td>\n",
       "      <td>29.0</td>\n",
       "      <td>125.0</td>\n",
       "      <td>23.3</td>\n",
       "      <td>0.672</td>\n",
       "      <td>32</td>\n",
       "      <td>1</td>\n",
       "    </tr>\n",
       "    <tr>\n",
       "      <th>3</th>\n",
       "      <td>1</td>\n",
       "      <td>89.0</td>\n",
       "      <td>66.0</td>\n",
       "      <td>23.0</td>\n",
       "      <td>94.0</td>\n",
       "      <td>28.1</td>\n",
       "      <td>0.167</td>\n",
       "      <td>21</td>\n",
       "      <td>0</td>\n",
       "    </tr>\n",
       "    <tr>\n",
       "      <th>4</th>\n",
       "      <td>0</td>\n",
       "      <td>137.0</td>\n",
       "      <td>40.0</td>\n",
       "      <td>35.0</td>\n",
       "      <td>168.0</td>\n",
       "      <td>43.1</td>\n",
       "      <td>2.288</td>\n",
       "      <td>33</td>\n",
       "      <td>1</td>\n",
       "    </tr>\n",
       "    <tr>\n",
       "      <th>5</th>\n",
       "      <td>5</td>\n",
       "      <td>116.0</td>\n",
       "      <td>74.0</td>\n",
       "      <td>29.0</td>\n",
       "      <td>125.0</td>\n",
       "      <td>25.6</td>\n",
       "      <td>0.201</td>\n",
       "      <td>30</td>\n",
       "      <td>0</td>\n",
       "    </tr>\n",
       "    <tr>\n",
       "      <th>6</th>\n",
       "      <td>3</td>\n",
       "      <td>78.0</td>\n",
       "      <td>50.0</td>\n",
       "      <td>32.0</td>\n",
       "      <td>88.0</td>\n",
       "      <td>31.0</td>\n",
       "      <td>0.248</td>\n",
       "      <td>26</td>\n",
       "      <td>1</td>\n",
       "    </tr>\n",
       "    <tr>\n",
       "      <th>7</th>\n",
       "      <td>10</td>\n",
       "      <td>115.0</td>\n",
       "      <td>72.0</td>\n",
       "      <td>29.0</td>\n",
       "      <td>125.0</td>\n",
       "      <td>35.3</td>\n",
       "      <td>0.134</td>\n",
       "      <td>29</td>\n",
       "      <td>0</td>\n",
       "    </tr>\n",
       "    <tr>\n",
       "      <th>8</th>\n",
       "      <td>2</td>\n",
       "      <td>197.0</td>\n",
       "      <td>70.0</td>\n",
       "      <td>45.0</td>\n",
       "      <td>543.0</td>\n",
       "      <td>30.5</td>\n",
       "      <td>0.158</td>\n",
       "      <td>53</td>\n",
       "      <td>1</td>\n",
       "    </tr>\n",
       "    <tr>\n",
       "      <th>9</th>\n",
       "      <td>8</td>\n",
       "      <td>125.0</td>\n",
       "      <td>96.0</td>\n",
       "      <td>29.0</td>\n",
       "      <td>125.0</td>\n",
       "      <td>32.3</td>\n",
       "      <td>0.232</td>\n",
       "      <td>54</td>\n",
       "      <td>1</td>\n",
       "    </tr>\n",
       "  </tbody>\n",
       "</table>\n",
       "</div>"
      ],
      "text/plain": [
       "   Pregnancies  Glucose  BloodPressure  SkinThickness  Insulin   BMI  \\\n",
       "0            6    148.0           72.0           35.0    125.0  33.6   \n",
       "1            1     85.0           66.0           29.0    125.0  26.6   \n",
       "2            8    183.0           64.0           29.0    125.0  23.3   \n",
       "3            1     89.0           66.0           23.0     94.0  28.1   \n",
       "4            0    137.0           40.0           35.0    168.0  43.1   \n",
       "5            5    116.0           74.0           29.0    125.0  25.6   \n",
       "6            3     78.0           50.0           32.0     88.0  31.0   \n",
       "7           10    115.0           72.0           29.0    125.0  35.3   \n",
       "8            2    197.0           70.0           45.0    543.0  30.5   \n",
       "9            8    125.0           96.0           29.0    125.0  32.3   \n",
       "\n",
       "   DiabetesPedigreeFunction  Age  Outcome  \n",
       "0                     0.627   50        1  \n",
       "1                     0.351   31        0  \n",
       "2                     0.672   32        1  \n",
       "3                     0.167   21        0  \n",
       "4                     2.288   33        1  \n",
       "5                     0.201   30        0  \n",
       "6                     0.248   26        1  \n",
       "7                     0.134   29        0  \n",
       "8                     0.158   53        1  \n",
       "9                     0.232   54        1  "
      ]
     },
     "execution_count": 32,
     "metadata": {},
     "output_type": "execute_result"
    }
   ],
   "source": [
    "# Instead of changing the `0` values in the five columns to `NaN`, try replacing the values with the median or mean of each column.\n",
    "# Replace the `0` values in the five columns with the median of each column\n",
    "diabetes_data[['Glucose', 'BloodPressure', 'SkinThickness', 'Insulin', 'BMI']] = diabetes_data[['Glucose', 'BloodPressure', 'SkinThickness', 'Insulin', 'BMI']].replace(np.NaN, diabetes_data.median())\n",
    "diabetes_data.head(10)\n",
    "\n"
   ]
  },
  {
   "cell_type": "code",
   "execution_count": 35,
   "id": "c66aa49f",
   "metadata": {},
   "outputs": [
    {
     "data": {
      "text/plain": [
       "Pregnancies                   3.0000\n",
       "Glucose                     117.0000\n",
       "BloodPressure                72.0000\n",
       "SkinThickness                29.0000\n",
       "Insulin                     125.0000\n",
       "BMI                          32.3000\n",
       "DiabetesPedigreeFunction      0.3725\n",
       "Age                          29.0000\n",
       "Outcome                       0.0000\n",
       "dtype: float64"
      ]
     },
     "execution_count": 35,
     "metadata": {},
     "output_type": "execute_result"
    }
   ],
   "source": [
    "#print meadian values\n",
    "diabetes_data.median()"
   ]
  }
 ],
 "metadata": {
  "kernelspec": {
   "display_name": "base",
   "language": "python",
   "name": "python3"
  },
  "language_info": {
   "codemirror_mode": {
    "name": "ipython",
    "version": 3
   },
   "file_extension": ".py",
   "mimetype": "text/x-python",
   "name": "python",
   "nbconvert_exporter": "python",
   "pygments_lexer": "ipython3",
   "version": "3.9.13 (main, Aug 25 2022, 23:51:50) [MSC v.1916 64 bit (AMD64)]"
  },
  "vscode": {
   "interpreter": {
    "hash": "a10900a5878379ea767506535abfbfab4a1b4e784d482ab3b3cac1ec102ef0bb"
   }
  }
 },
 "nbformat": 4,
 "nbformat_minor": 5
}
